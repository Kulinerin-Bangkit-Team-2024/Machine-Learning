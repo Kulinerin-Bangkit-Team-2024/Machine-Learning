{
 "cells": [
  {
   "cell_type": "code",
   "execution_count": 1,
   "id": "77718d38-ff44-4632-bf1e-e340e79404b6",
   "metadata": {},
   "outputs": [],
   "source": [
    "import tensorflow as tf\n",
    "from tensorflow.keras.preprocessing.image import ImageDataGenerator\n",
    "from tensorflow.keras.applications import MobileNetV2\n",
    "from tensorflow.keras import layers, models\n",
    "import os"
   ]
  },
  {
   "cell_type": "code",
   "execution_count": 2,
   "id": "840f88be-f949-45f8-8c20-cb7a42b5e8f5",
   "metadata": {},
   "outputs": [],
   "source": [
    "# Konfigurasi dataset path\n",
    "base_dir = \"./dataset_padang_food\"\n",
    "img_height, img_width = 224, 224  # Ukuran gambar\n",
    "batch_size = 32  # Ukuran batch"
   ]
  },
  {
   "cell_type": "code",
   "execution_count": 3,
   "id": "aecf629f-0ef3-48a2-ba00-1f8751c51ec1",
   "metadata": {},
   "outputs": [],
   "source": [
    "# Data Augmentation dan Pembagian Data\n",
    "datagen = ImageDataGenerator(\n",
    "    rescale=1.0/255,              # Normalisasi gambar\n",
    "    validation_split=0.2,         # 80% training, 20% validation\n",
    "    rotation_range=20,            # Rotasi gambar\n",
    "    horizontal_flip=True          # Flip gambar horizontal\n",
    ")"
   ]
  },
  {
   "cell_type": "code",
   "execution_count": 6,
   "id": "b2d9af5c-3a93-4521-ab30-64073d594e92",
   "metadata": {},
   "outputs": [
    {
     "name": "stdout",
     "output_type": "stream",
     "text": [
      "Found 799 images belonging to 9 classes.\n"
     ]
    }
   ],
   "source": [
    "train_data = datagen.flow_from_directory(\n",
    "    base_dir,\n",
    "    target_size=(img_height, img_width),\n",
    "    batch_size=batch_size,\n",
    "    class_mode=\"categorical\",\n",
    "    subset=\"training\"\n",
    ")"
   ]
  },
  {
   "cell_type": "code",
   "execution_count": 7,
   "id": "59a427e6-b1cb-4048-ad21-c79924f8e176",
   "metadata": {},
   "outputs": [
    {
     "name": "stdout",
     "output_type": "stream",
     "text": [
      "Found 194 images belonging to 9 classes.\n"
     ]
    }
   ],
   "source": [
    "val_data = datagen.flow_from_directory(\n",
    "    base_dir,\n",
    "    target_size=(img_height, img_width),\n",
    "    batch_size=batch_size,\n",
    "    class_mode=\"categorical\",\n",
    "    subset=\"validation\"\n",
    ")"
   ]
  },
  {
   "cell_type": "code",
   "execution_count": 8,
   "id": "75c00dc0-0b7f-47dd-a5bd-8844f9eed216",
   "metadata": {},
   "outputs": [
    {
     "name": "stdout",
     "output_type": "stream",
     "text": [
      "Downloading data from https://storage.googleapis.com/tensorflow/keras-applications/mobilenet_v2/mobilenet_v2_weights_tf_dim_ordering_tf_kernels_1.0_224_no_top.h5\n",
      "9406464/9406464 [==============================] - 0s 0us/step\n"
     ]
    }
   ],
   "source": [
    "# Load model pre-trained (MobileNetV2)\n",
    "base_model = MobileNetV2(weights=\"imagenet\", include_top=False, input_shape=(img_height, img_width, 3))"
   ]
  },
  {
   "cell_type": "code",
   "execution_count": 9,
   "id": "7b10d81c-8f11-448c-b34d-f7294a5ea1b7",
   "metadata": {},
   "outputs": [],
   "source": [
    "# Freeze layer pre-trained\n",
    "base_model.trainable = False"
   ]
  },
  {
   "cell_type": "code",
   "execution_count": 10,
   "id": "5920502e-2c97-4206-a931-c46228abc5d2",
   "metadata": {},
   "outputs": [],
   "source": [
    "# Tambahkan layer custom (head) untuk klasifikasi\n",
    "model = models.Sequential([\n",
    "    base_model,\n",
    "    layers.GlobalAveragePooling2D(),\n",
    "    layers.Dense(128, activation='relu'),\n",
    "    layers.Dropout(0.3),\n",
    "    layers.Dense(train_data.num_classes, activation='softmax')  # Output sesuai jumlah kelas\n",
    "])"
   ]
  },
  {
   "cell_type": "code",
   "execution_count": 11,
   "id": "fc41e1de-1c58-45eb-a1c1-f619da5e8cc8",
   "metadata": {},
   "outputs": [],
   "source": [
    "# Compile model\n",
    "model.compile(\n",
    "    optimizer=tf.keras.optimizers.Adam(learning_rate=0.001),\n",
    "    loss=\"categorical_crossentropy\",\n",
    "    metrics=[\"accuracy\"]\n",
    ")"
   ]
  },
  {
   "cell_type": "code",
   "execution_count": 12,
   "id": "985e1673-3ad6-461d-86cd-b1dedfe3eb3a",
   "metadata": {},
   "outputs": [
    {
     "name": "stdout",
     "output_type": "stream",
     "text": [
      "Epoch 1/10\n",
      "25/25 [==============================] - 24s 612ms/step - loss: 1.5919 - accuracy: 0.4543 - val_loss: 0.6931 - val_accuracy: 0.8557\n",
      "Epoch 2/10\n",
      "25/25 [==============================] - 9s 364ms/step - loss: 0.6886 - accuracy: 0.7785 - val_loss: 0.4699 - val_accuracy: 0.8660\n",
      "Epoch 3/10\n",
      "25/25 [==============================] - 9s 346ms/step - loss: 0.4657 - accuracy: 0.8461 - val_loss: 0.4681 - val_accuracy: 0.8454\n",
      "Epoch 4/10\n",
      "25/25 [==============================] - 9s 363ms/step - loss: 0.3640 - accuracy: 0.8861 - val_loss: 0.4132 - val_accuracy: 0.8299\n",
      "Epoch 5/10\n",
      "25/25 [==============================] - 9s 360ms/step - loss: 0.2623 - accuracy: 0.9186 - val_loss: 0.3663 - val_accuracy: 0.8866\n",
      "Epoch 6/10\n",
      "25/25 [==============================] - 9s 355ms/step - loss: 0.2249 - accuracy: 0.9324 - val_loss: 0.3745 - val_accuracy: 0.8918\n",
      "Epoch 7/10\n",
      "25/25 [==============================] - 9s 343ms/step - loss: 0.1799 - accuracy: 0.9462 - val_loss: 0.3261 - val_accuracy: 0.9072\n",
      "Epoch 8/10\n",
      "25/25 [==============================] - 9s 352ms/step - loss: 0.1491 - accuracy: 0.9675 - val_loss: 0.3566 - val_accuracy: 0.8763\n",
      "Epoch 9/10\n",
      "25/25 [==============================] - 9s 346ms/step - loss: 0.1548 - accuracy: 0.9437 - val_loss: 0.3638 - val_accuracy: 0.8608\n",
      "Epoch 10/10\n",
      "25/25 [==============================] - 9s 345ms/step - loss: 0.1441 - accuracy: 0.9637 - val_loss: 0.3235 - val_accuracy: 0.9021\n"
     ]
    }
   ],
   "source": [
    "# Training model\n",
    "epochs = 10\n",
    "history = model.fit(\n",
    "    train_data,\n",
    "    validation_data=val_data,\n",
    "    epochs=epochs\n",
    ")"
   ]
  },
  {
   "cell_type": "code",
   "execution_count": 14,
   "id": "94363c1a-182c-4d3a-b5a3-dc692e2c0264",
   "metadata": {},
   "outputs": [],
   "source": [
    "# Simpan model ke format TFLite\n",
    "model.save(\"padang_food_model.h5\")"
   ]
  },
  {
   "cell_type": "code",
   "execution_count": 15,
   "id": "cb0f95d1-2b85-433e-97d2-ea08e50d5d20",
   "metadata": {},
   "outputs": [
    {
     "name": "stderr",
     "output_type": "stream",
     "text": [
      "WARNING:absl:Function `_wrapped_model` contains input name(s) mobilenetv2_1.00_224_input with unsupported characters which will be renamed to mobilenetv2_1_00_224_input in the SavedModel.\n",
      "WARNING:absl:Found untraced functions such as _jit_compiled_convolution_op, _jit_compiled_convolution_op, _jit_compiled_convolution_op, _jit_compiled_convolution_op, _jit_compiled_convolution_op while saving (showing 5 of 52). These functions will not be directly callable after loading.\n"
     ]
    },
    {
     "name": "stdout",
     "output_type": "stream",
     "text": [
      "INFO:tensorflow:Assets written to: C:\\Users\\Jef\\AppData\\Local\\Temp\\tmpnk3mjxvt\\assets\n"
     ]
    },
    {
     "name": "stderr",
     "output_type": "stream",
     "text": [
      "INFO:tensorflow:Assets written to: C:\\Users\\Jef\\AppData\\Local\\Temp\\tmpnk3mjxvt\\assets\n"
     ]
    }
   ],
   "source": [
    "# Konversi ke TFLite\n",
    "converter = tf.lite.TFLiteConverter.from_keras_model(model)\n",
    "tflite_model = converter.convert()"
   ]
  },
  {
   "cell_type": "code",
   "execution_count": 16,
   "id": "5bfc29f9-18f9-4e8a-818f-c2d3fc64ed5f",
   "metadata": {},
   "outputs": [],
   "source": [
    "# Simpan model TFLite\n",
    "with open(\"padang_food_model.tflite\", \"wb\") as f:\n",
    "    f.write(tflite_model)"
   ]
  },
  {
   "cell_type": "code",
   "execution_count": 17,
   "id": "425cffb0-4d1e-4a88-9a11-2d1916297401",
   "metadata": {},
   "outputs": [],
   "source": [
    "# Uji prediksi pada data baru (opsional)\n",
    "import numpy as np\n",
    "from tensorflow.keras.utils import load_img, img_to_array"
   ]
  },
  {
   "cell_type": "code",
   "execution_count": 18,
   "id": "66bba151-1ca5-465c-a25c-71e2bb9f10f0",
   "metadata": {},
   "outputs": [],
   "source": [
    "def predict_image(image_path):\n",
    "    img = load_img(image_path, target_size=(img_height, img_width))\n",
    "    img_array = img_to_array(img) / 255.0\n",
    "    img_array = np.expand_dims(img_array, axis=0)\n",
    "\n",
    "    predictions = model.predict(img_array)\n",
    "    predicted_class = train_data.class_indices\n",
    "    label_map = {v: k for k, v in predicted_class.items()}\n",
    "    return label_map[np.argmax(predictions)]"
   ]
  },
  {
   "cell_type": "code",
   "execution_count": null,
   "id": "2828cce8-6e6d-4928-8c82-3db7d81933c7",
   "metadata": {},
   "outputs": [],
   "source": []
  }
 ],
 "metadata": {
  "kernelspec": {
   "display_name": "Python 3 (ipykernel)",
   "language": "python",
   "name": "python3"
  },
  "language_info": {
   "codemirror_mode": {
    "name": "ipython",
    "version": 3
   },
   "file_extension": ".py",
   "mimetype": "text/x-python",
   "name": "python",
   "nbconvert_exporter": "python",
   "pygments_lexer": "ipython3",
   "version": "3.8.20"
  }
 },
 "nbformat": 4,
 "nbformat_minor": 5
}
